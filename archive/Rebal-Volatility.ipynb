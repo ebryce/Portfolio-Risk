{
 "cells": [
  {
   "cell_type": "code",
   "execution_count": 1,
   "metadata": {},
   "outputs": [],
   "source": [
    "# System libraries\n",
    "import sys, os, gc\n",
    "import datetime\n",
    "\n",
    "# Math libraries\n",
    "import math, random\n",
    "import pandas as pd, numpy as np\n",
    "import scipy\n",
    "from scipy import stats\n",
    "from datetime import timedelta\n",
    "from datetime import datetime\n",
    "import itertools\n",
    "\n",
    "# Data storage libraries\n",
    "import pickle, sqlite3, simpledbf, boto3\n",
    "\n",
    "# Custom financial data libraries\n",
    "import findata_utils as fd\n",
    "import ml_utils\n",
    "\n",
    "# Plotting libraries\n",
    "import matplotlib.pyplot as plt\n",
    "from matplotlib import rcParams\n",
    "\n",
    "import warnings\n",
    "#if not sys.warnoptions:\n",
    "#    warnings.simplefilter(\"ignore\")\n",
    "\n",
    "from importlib import reload\n",
    "fd = reload(fd)\n",
    "\n",
    "import sklearn as sk\n",
    "import tensorflow as tf\n",
    "import xgboost as xgb\n",
    "import keras\n",
    "\n",
    "from imblearn.over_sampling import RandomOverSampler\n",
    "\n",
    "from sklearn import svm\n",
    "from sklearn import preprocessing\n",
    "from sklearn.ensemble import RandomForestRegressor, RandomForestClassifier\n",
    "from sklearn.linear_model import ElasticNet, LogisticRegression\n",
    "from sklearn.metrics import explained_variance_score, mean_squared_error, confusion_matrix, classification_report, accuracy_score\n",
    "from sklearn.model_selection import cross_val_score, KFold, GridSearchCV\n",
    "from sklearn.preprocessing import StandardScaler, LabelEncoder\n",
    "from sklearn.pipeline import Pipeline\n",
    "from sklearn.externals import joblib \n",
    "\n",
    "from keras.models import Sequential\n",
    "from keras.optimizers import SGD\n",
    "from keras.layers import Dense, Dropout\n",
    "from keras.wrappers.scikit_learn import KerasRegressor\n",
    "\n",
    "from yellowbrick.regressor import ResidualsPlot, PredictionError\n",
    "\n",
    "# Connect to databases\n",
    "db = 'C:\\\\Datasets\\\\thesis.db'\n",
    "overleaf = ['C:','Users','bryce','OneDrive','Documents','Overleaf','5babbfe264c952737a9a5117','esc499']\n",
    "conn = sqlite3.connect(db)\n",
    "c = conn.cursor()\n",
    "\n",
    "hdf_path = 'C:\\\\Datasets\\\\thesis.h5'\n",
    "hdf = pd.HDFStore(hdf_path)"
   ]
  },
  {
   "cell_type": "code",
   "execution_count": 7,
   "metadata": {},
   "outputs": [],
   "source": [
    "df = pd.read_sql('''\n",
    "    SELECT *--ticker, date, rebal_date, action, [index], r_daily,\n",
    "        --er_daily, ar_daily\n",
    "    FROM daily_abnormal_returns''', conn)"
   ]
  },
  {
   "cell_type": "code",
   "execution_count": 49,
   "metadata": {},
   "outputs": [],
   "source": [
    "vola = pd.read_sql('''SELECT * FROM vola''', conn)\n",
    "vola = vola.merge(df[['rebal_date']].drop_duplicates(), left_on=['date'], right_on=['rebal_date'], how='left')\n",
    "vola['rebal_day'] = vola['rebal_date'].apply(lambda vol: type(vol)==str)\n",
    "vola['surprise'] = (vola['SPTSXIndex_3']-vola['SPTSXIndex_20'])"
   ]
  },
  {
   "cell_type": "code",
   "execution_count": 69,
   "metadata": {},
   "outputs": [
    {
     "data": {
      "image/png": "[encoded data removed]",
      "text/plain": [
       "<Figure size 432x288 with 1 Axes>"
      ]
     },
     "metadata": {
      "needs_background": "light"
     },
     "output_type": "display_data"
    }
   ],
   "source": [
    "plt.hist(vola.loc[vola['rebal_day']]['surprise'], density=True, alpha=1, color='blue', bins=np.linspace(-20,20,21), histtype='step', cumulative=True)\n",
    "plt.hist(vola.loc[~vola['rebal_day']]['surprise'], density=True, alpha=0.25, color='blue', bins=np.linspace(-20,20,21), histtype='stepfilled', cumulative=True)\n",
    "plt.legend(['Rebal Day','Other Days'])\n",
    "plt.show()"
   ]
  }
 ],
 "metadata": {
  "kernelspec": {
   "display_name": "Python 3",
   "language": "python",
   "name": "python3"
  },
  "language_info": {
   "codemirror_mode": {
    "name": "ipython",
    "version": 3
   },
   "file_extension": ".py",
   "mimetype": "text/x-python",
   "name": "python",
   "nbconvert_exporter": "python",
   "pygments_lexer": "ipython3",
   "version": "3.6.8"
  }
 },
 "nbformat": 4,
 "nbformat_minor": 2
}
