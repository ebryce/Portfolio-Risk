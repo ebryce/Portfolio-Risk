{
 "cells": [
  {
   "cell_type": "code",
   "execution_count": 1,
   "metadata": {},
   "outputs": [],
   "source": [
    "# System libraries\n",
    "import sys, os, gc\n",
    "import datetime\n",
    "\n",
    "# Math libraries\n",
    "import math, random\n",
    "import pandas as pd, numpy as np\n",
    "import scipy\n",
    "from scipy import stats\n",
    "from datetime import timedelta\n",
    "from datetime import datetime\n",
    "import itertools\n",
    "\n",
    "# Data storage libraries\n",
    "import pickle, sqlite3, simpledbf, boto3\n",
    "\n",
    "# Custom financial data libraries\n",
    "import findata_utils as fd\n",
    "import ml_utils\n",
    "\n",
    "# Plotting libraries\n",
    "import matplotlib.pyplot as plt\n",
    "from matplotlib import rcParams\n",
    "\n",
    "import warnings\n",
    "#if not sys.warnoptions:\n",
    "#    warnings.simplefilter(\"ignore\")\n",
    "\n",
    "from importlib import reload\n",
    "fd = reload(fd)\n",
    "\n",
    "import sklearn as sk\n",
    "import tensorflow as tf\n",
    "import xgboost as xgb\n",
    "import keras\n",
    "\n",
    "from imblearn.over_sampling import RandomOverSampler\n",
    "\n",
    "from sklearn import svm\n",
    "from sklearn import preprocessing\n",
    "from sklearn.ensemble import RandomForestRegressor, RandomForestClassifier\n",
    "from sklearn.linear_model import ElasticNet, LogisticRegression\n",
    "from sklearn.metrics import explained_variance_score, mean_squared_error, confusion_matrix, classification_report, accuracy_score\n",
    "from sklearn.model_selection import cross_val_score, KFold, GridSearchCV\n",
    "from sklearn.preprocessing import StandardScaler, LabelEncoder\n",
    "from sklearn.pipeline import Pipeline\n",
    "from sklearn.externals import joblib \n",
    "\n",
    "from keras.models import Sequential\n",
    "from keras.optimizers import SGD\n",
    "from keras.layers import Dense, Dropout\n",
    "from keras.wrappers.scikit_learn import KerasRegressor\n",
    "\n",
    "from yellowbrick.regressor import ResidualsPlot, PredictionError\n",
    "\n",
    "# Connect to databases\n",
    "db = 'C:\\\\Datasets\\\\thesis.db'\n",
    "overleaf = ['C:','Users','bryce','OneDrive','Documents','Overleaf','5babbfe264c952737a9a5117','esc499']\n",
    "conn = sqlite3.connect(db)\n",
    "c = conn.cursor()\n",
    "\n",
    "hdf_path = 'C:\\\\Datasets\\\\thesis.h5'\n",
    "hdf = pd.HDFStore(hdf_path)"
   ]
  },
  {
   "cell_type": "code",
   "execution_count": 22,
   "metadata": {},
   "outputs": [
    {
     "name": "stdout",
     "output_type": "stream",
     "text": [
      "  ticker                  class  shares_out\n",
      "0    AAA  Class A Common Shares         0.0\n",
      "1   AAAM          Common Shares         0.0\n",
      "2    ADC          Common Shares  19700000.0\n",
      "3    AEY          Common Shares         0.0\n",
      "4    AFF          Common Shares         0.0\n"
     ]
    }
   ],
   "source": [
    "so = pd.read_excel('ciq/CIQ_SharesOut.xls', skiprows=7)[['Ticker','Security Name','Shares Outstanding [My Setting] [Latest] (mm)']]\n",
    "so.columns = ['ticker','class','shares_out']\n",
    "so.replace('-', 0, inplace=True)\n",
    "so['shares_out'] = so['shares_out']*1000000\n",
    "so['ticker'] = so['ticker'].apply(lambda ticker: str(ticker)[str(ticker).find(':')+1:] if ':' in str(ticker) else str(ticker))\n",
    "print(so.head())\n",
    "\n",
    "so.to_sql('shares_out', conn, if_exists='replace', index=False)"
   ]
  }
 ],
 "metadata": {
  "kernelspec": {
   "display_name": "Python 3",
   "language": "python",
   "name": "python3"
  },
  "language_info": {
   "codemirror_mode": {
    "name": "ipython",
    "version": 3
   },
   "file_extension": ".py",
   "mimetype": "text/x-python",
   "name": "python",
   "nbconvert_exporter": "python",
   "pygments_lexer": "ipython3",
   "version": "3.6.8"
  }
 },
 "nbformat": 4,
 "nbformat_minor": 2
}
