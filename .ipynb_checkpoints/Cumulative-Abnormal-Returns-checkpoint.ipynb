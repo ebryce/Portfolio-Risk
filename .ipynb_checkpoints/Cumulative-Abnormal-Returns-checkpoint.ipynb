{
 "cells": [
  {
   "cell_type": "code",
   "execution_count": 2,
   "metadata": {},
   "outputs": [],
   "source": [
    "# System libraries\n",
    "import sys, os, gc\n",
    "import datetime\n",
    "\n",
    "# Math libraries\n",
    "import math, random\n",
    "import pandas as pd, numpy as np\n",
    "import scipy\n",
    "from scipy import stats\n",
    "from datetime import timedelta\n",
    "from datetime import datetime\n",
    "import itertools\n",
    "\n",
    "# Data storage libraries\n",
    "import pickle, sqlite3, simpledbf, boto3\n",
    "\n",
    "# Custom financial data libraries\n",
    "import findata_utils as fd\n",
    "import ml_utils\n",
    "\n",
    "# Plotting libraries\n",
    "import matplotlib.pyplot as plt\n",
    "from matplotlib import rcParams\n",
    "\n",
    "import warnings\n",
    "#if not sys.warnoptions:\n",
    "#    warnings.simplefilter(\"ignore\")\n",
    "\n",
    "from importlib import reload\n",
    "fd = reload(fd)\n",
    "\n",
    "import sklearn as sk\n",
    "import tensorflow as tf\n",
    "import xgboost as xgb\n",
    "import keras\n",
    "\n",
    "from imblearn.over_sampling import RandomOverSampler\n",
    "\n",
    "from sklearn import svm\n",
    "from sklearn import preprocessing\n",
    "from sklearn.ensemble import RandomForestRegressor, RandomForestClassifier\n",
    "from sklearn.linear_model import ElasticNet, LogisticRegression\n",
    "from sklearn.metrics import explained_variance_score, mean_squared_error, confusion_matrix, classification_report, accuracy_score\n",
    "from sklearn.model_selection import cross_val_score, KFold, GridSearchCV\n",
    "from sklearn.preprocessing import StandardScaler, LabelEncoder\n",
    "from sklearn.pipeline import Pipeline\n",
    "from sklearn.externals import joblib \n",
    "\n",
    "from keras.models import Sequential\n",
    "from keras.optimizers import SGD\n",
    "from keras.layers import Dense, Dropout\n",
    "from keras.wrappers.scikit_learn import KerasRegressor\n",
    "\n",
    "from yellowbrick.regressor import ResidualsPlot, PredictionError\n",
    "\n",
    "# Connect to databases\n",
    "db = 'C:\\\\Datasets\\\\thesis.db'\n",
    "overleaf = ['C:','Users','bryce','OneDrive','Documents','Overleaf','5babbfe264c952737a9a5117','esc499']\n",
    "conn = sqlite3.connect(db)\n",
    "c = conn.cursor()\n",
    "\n",
    "hdf_path = 'C:\\\\Datasets\\\\thesis.h5'\n",
    "hdf = pd.HDFStore(hdf_path)"
   ]
  },
  {
   "cell_type": "code",
   "execution_count": 44,
   "metadata": {},
   "outputs": [],
   "source": [
    "df = pd.read_sql('''\n",
    "    SELECT *--ticker, date, rebal_date, action, [index], r_daily,\n",
    "        --er_daily, ar_daily\n",
    "    FROM daily_abnormal_returns''', conn)"
   ]
  },
  {
   "cell_type": "code",
   "execution_count": 114,
   "metadata": {},
   "outputs": [],
   "source": [
    "abnormal_returns = df.pivot_table(index=['date'], columns=['ticker'], values=['r_daily','ar_daily','er_daily'])\n",
    "cumulative_abnormal_returns = (abnormal_returns+1).fillna(1).cumprod()#.reset_index()"
   ]
  },
  {
   "cell_type": "code",
   "execution_count": 115,
   "metadata": {},
   "outputs": [],
   "source": [
    "rebals = df[['ticker','rebal_date','action']].drop_duplicates()\n",
    "rebals['rebal_date'] = rebals['rebal_date'].apply(lambda date: date[:10])\n",
    "\n",
    "returns_at_rebal = []\n",
    "for ticker in rebals['ticker'].unique():\n",
    "    rebal_date = rebals.loc[rebals['ticker']==ticker]['rebal_date'].values[0]\n",
    "    if ticker in cumulative_abnormal_returns.columns.get_level_values(1):\n",
    "        rebal_r = pd.Series(name=ticker)\n",
    "        if len(cumulative_abnormal_returns.loc[cumulative_abnormal_returns.index==rebal_date].index)>0:\n",
    "            for field in ['ar_daily','er_daily','r_daily']:\n",
    "                rebal_r[field] = cumulative_abnormal_returns.loc[cumulative_abnormal_returns.index==rebal_date][field, ticker].values[0]\n",
    "       \n",
    "            returns_at_rebal.append(pd.DataFrame(rebal_r).T)\n",
    "returns_at_rebal = pd.concat(returns_at_rebal)\n",
    "for ticker in cumulative_abnormal_returns.columns.get_level_values(1):\n",
    "    for field in ['ar_daily','er_daily','r_daily']:\n",
    "        if ticker in returns_at_rebal.index:\n",
    "            cumulative_abnormal_returns[(field, ticker)] = cumulative_abnormal_returns[(field, ticker)] - returns_at_rebal.loc[returns_at_rebal.index==ticker][field].values[0] \n",
    "        else:\n",
    "            cumulative_abnormal_returns[(field, ticker)] = np.nan"
   ]
  },
  {
   "cell_type": "code",
   "execution_count": 147,
   "metadata": {},
   "outputs": [],
   "source": [
    "unstack = cumulative_abnormal_returns.unstack().reset_index().merge(rebals[['ticker','rebal_date']], on=['ticker'])\n",
    "unstack.columns = ['metric','ticker','date','value','rebal_date']\n",
    "for field in ['date','rebal_date']:\n",
    "    unstack[field] = unstack[field].apply(lambda date: datetime.strptime(date, '%Y-%m-%d'))\n",
    "unstack['d'] = (unstack['date']-unstack['rebal_date']).apply(lambda d: d.days)\n",
    "\n",
    "unstack = unstack.loc[unstack['metric']=='ar_daily'].pivot_table(index=['d'],\n",
    "                                                                 columns=['metric','ticker'],\n",
    "                                                                 values=['value'], aggfunc=np.mean)"
   ]
  },
  {
   "cell_type": "code",
   "execution_count": null,
   "metadata": {},
   "outputs": [],
   "source": [
    "unstack.agg(['mean','std'],axis=1)"
   ]
  }
 ],
 "metadata": {
  "kernelspec": {
   "display_name": "Python 3",
   "language": "python",
   "name": "python3"
  },
  "language_info": {
   "codemirror_mode": {
    "name": "ipython",
    "version": 3
   },
   "file_extension": ".py",
   "mimetype": "text/x-python",
   "name": "python",
   "nbconvert_exporter": "python",
   "pygments_lexer": "ipython3",
   "version": "3.6.8"
  }
 },
 "nbformat": 4,
 "nbformat_minor": 2
}
